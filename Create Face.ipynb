{
 "cells": [
  {
   "cell_type": "code",
   "execution_count": 3,
   "metadata": {},
   "outputs": [
    {
     "name": "stdout",
     "output_type": "stream",
     "text": [
      "EnterName: Ritwik\n",
      "Enter Roll number: 185528\n",
      "Starting img no.: 0\n"
     ]
    }
   ],
   "source": [
    "import cv2\n",
    "import numpy as numpy\n",
    "import os, time\n",
    "import dlib\n",
    "from imutils import face_utils\n",
    "from imutils.face_utils import FaceAligner\n",
    "\n",
    "detector = dlib.get_frontal_face_detector()\n",
    "shape_predictor = dlib.shape_predictor(\"shape_predictor_68_face_landmarks.dat\")\n",
    "face_aligner = FaceAligner(shape_predictor, desiredFaceWidth=200)\n",
    "\n",
    "FACE_DIR = \"images/\"\n",
    "\n",
    "\n",
    "def create_folder(folder_name):\n",
    "    if not os.path.exists(folder_name):\n",
    "        os.mkdir(folder_name)\n",
    "\n",
    "\n",
    "def main():\n",
    "    create_folder(FACE_DIR)\n",
    "    while True:\n",
    "        name=input(\"EnterName: \")\n",
    "        face_id = input(\"Enter Roll number: \")\n",
    "        try:\n",
    "            face_id = int(face_id)\n",
    "            face_folder = FACE_DIR + str(face_id) + \"/\"\n",
    "            create_folder(face_folder)\n",
    "            break\n",
    "        except:\n",
    "            print(\"Invalid input. id must be int\")\n",
    "            continue\n",
    "\n",
    "    # get beginning image number\n",
    "    while True:\n",
    "        init_img_no = input(\"Starting img no.: \")\n",
    "        try:\n",
    "            init_img_no = int(init_img_no)\n",
    "            break\n",
    "        except:\n",
    "            print(\"Starting img no should be integer...\")\n",
    "            continue\n",
    "\n",
    "    img_no = init_img_no\n",
    "    cap = cv2.VideoCapture(0)\n",
    "    total_imgs = 30\n",
    "    while True:\n",
    "        ret, img = cap.read()\n",
    "        img_gray = cv2.cvtColor(img, cv2.COLOR_BGR2GRAY)\n",
    "        faces = detector(img_gray)\n",
    "        if len(faces) == 1:\n",
    "            face = faces[0]\n",
    "            (x, y, w, h) = face_utils.rect_to_bb(face)\n",
    "            face_img = img_gray[y-50:y + h+100, x-50:x + w+100]\n",
    "            face_aligned = face_aligner.align(img, img_gray, face)\n",
    "\n",
    "            face_img = face_aligned\n",
    "            img_path = face_folder +name+ str(img_no) + \".jpg\"\n",
    "            cv2.imwrite(img_path, face_img)\n",
    "            cv2.rectangle(img, (x, y), (x + w, y + h), (255, 255, 0), 3)\n",
    "            cv2.imshow(\"aligned\", face_img)\n",
    "            img_no += 1\n",
    "\n",
    "        cv2.imshow(\"Saving\", img)\n",
    "        cv2.waitKey(1)\n",
    "        if img_no == init_img_no + total_imgs:\n",
    "            break\n",
    "\n",
    "    cap.release()\n",
    "    \n",
    "\n",
    "\n",
    "main()\n",
    "cv2.destroyAllWindows()"
   ]
  },
  {
   "cell_type": "code",
   "execution_count": null,
   "metadata": {},
   "outputs": [],
   "source": []
  }
 ],
 "metadata": {
  "kernelspec": {
   "display_name": "Python 3",
   "language": "python",
   "name": "python3"
  },
  "language_info": {
   "codemirror_mode": {
    "name": "ipython",
    "version": 3
   },
   "file_extension": ".py",
   "mimetype": "text/x-python",
   "name": "python",
   "nbconvert_exporter": "python",
   "pygments_lexer": "ipython3",
   "version": "3.6.6"
  }
 },
 "nbformat": 4,
 "nbformat_minor": 2
}
